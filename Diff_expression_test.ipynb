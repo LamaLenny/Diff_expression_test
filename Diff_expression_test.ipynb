{
 "cells": [
  {
   "cell_type": "code",
   "execution_count": 21,
   "metadata": {},
   "outputs": [],
   "source": [
    "import numpy as np\n",
    "import pandas as pd\n",
    "import matplotlib.pyplot as plt\n",
    "import seaborn as sns\n",
    "from collections import Counter\n",
    "from sklearn.tree import DecisionTreeClassifier\n",
    "from sklearn.tree import plot_tree"
   ]
  },
  {
   "cell_type": "markdown",
   "metadata": {},
   "source": [
    "# 1. Обработка данных"
   ]
  },
  {
   "cell_type": "markdown",
   "metadata": {},
   "source": [
    "Для удобства воспользовалась сервисом https://ctlab.itmo.ru/phantasus/\n",
    "\n",
    "Данные по экспрессии в нужном формате скачала оттуда."
   ]
  },
  {
   "cell_type": "code",
   "execution_count": 2,
   "metadata": {},
   "outputs": [
    {
     "name": "stdout",
     "output_type": "stream",
     "text": [
      "(22514, 19)\n"
     ]
    },
    {
     "data": {
      "text/html": [
       "<div>\n",
       "<style scoped>\n",
       "    .dataframe tbody tr th:only-of-type {\n",
       "        vertical-align: middle;\n",
       "    }\n",
       "\n",
       "    .dataframe tbody tr th {\n",
       "        vertical-align: top;\n",
       "    }\n",
       "\n",
       "    .dataframe thead th {\n",
       "        text-align: right;\n",
       "    }\n",
       "</style>\n",
       "<table border=\"1\" class=\"dataframe\">\n",
       "  <thead>\n",
       "    <tr style=\"text-align: right;\">\n",
       "      <th></th>\n",
       "      <th>ID</th>\n",
       "      <th>liver_control_rep1</th>\n",
       "      <th>liver_control_rep2</th>\n",
       "      <th>liver_control_rep3</th>\n",
       "      <th>liver_control_rep4</th>\n",
       "      <th>liver_control_rep5</th>\n",
       "      <th>liver_control_rep6</th>\n",
       "      <th>liver_BPALowDose_rep1</th>\n",
       "      <th>liver_BPALowDose_rep2</th>\n",
       "      <th>liver_BPALowDose_rep3</th>\n",
       "      <th>liver_BPALowDose_rep4</th>\n",
       "      <th>liver_BPALowDose_rep5</th>\n",
       "      <th>liver_BPALowDose_rep6</th>\n",
       "      <th>liver_BPAHighDose_rep1</th>\n",
       "      <th>liver_BPAHighDose_rep2</th>\n",
       "      <th>liver_BPAHighDose_rep3</th>\n",
       "      <th>liver_BPAHighDose_rep4</th>\n",
       "      <th>liver_BPAHighDose_rep5</th>\n",
       "      <th>liver_BPAHighDose_rep6</th>\n",
       "    </tr>\n",
       "  </thead>\n",
       "  <tbody>\n",
       "    <tr>\n",
       "      <th>0</th>\n",
       "      <td>A_51_P100034</td>\n",
       "      <td>12.630</td>\n",
       "      <td>11.899</td>\n",
       "      <td>12.393</td>\n",
       "      <td>12.539</td>\n",
       "      <td>12.368</td>\n",
       "      <td>12.361</td>\n",
       "      <td>12.332</td>\n",
       "      <td>12.148</td>\n",
       "      <td>12.032</td>\n",
       "      <td>11.955</td>\n",
       "      <td>12.222</td>\n",
       "      <td>12.202</td>\n",
       "      <td>12.107</td>\n",
       "      <td>12.529</td>\n",
       "      <td>11.838</td>\n",
       "      <td>12.054</td>\n",
       "      <td>12.223</td>\n",
       "      <td>12.343</td>\n",
       "    </tr>\n",
       "    <tr>\n",
       "      <th>1</th>\n",
       "      <td>A_51_P100063</td>\n",
       "      <td>5.828</td>\n",
       "      <td>6.598</td>\n",
       "      <td>5.984</td>\n",
       "      <td>5.986</td>\n",
       "      <td>6.089</td>\n",
       "      <td>6.163</td>\n",
       "      <td>6.384</td>\n",
       "      <td>6.410</td>\n",
       "      <td>5.984</td>\n",
       "      <td>6.158</td>\n",
       "      <td>6.031</td>\n",
       "      <td>5.833</td>\n",
       "      <td>6.441</td>\n",
       "      <td>7.814</td>\n",
       "      <td>6.107</td>\n",
       "      <td>7.017</td>\n",
       "      <td>5.853</td>\n",
       "      <td>6.656</td>\n",
       "    </tr>\n",
       "    <tr>\n",
       "      <th>2</th>\n",
       "      <td>A_51_P100099</td>\n",
       "      <td>7.638</td>\n",
       "      <td>7.635</td>\n",
       "      <td>7.216</td>\n",
       "      <td>7.767</td>\n",
       "      <td>7.516</td>\n",
       "      <td>7.378</td>\n",
       "      <td>7.171</td>\n",
       "      <td>7.558</td>\n",
       "      <td>7.571</td>\n",
       "      <td>7.607</td>\n",
       "      <td>7.523</td>\n",
       "      <td>7.628</td>\n",
       "      <td>7.461</td>\n",
       "      <td>7.321</td>\n",
       "      <td>7.792</td>\n",
       "      <td>7.577</td>\n",
       "      <td>7.412</td>\n",
       "      <td>7.357</td>\n",
       "    </tr>\n",
       "    <tr>\n",
       "      <th>3</th>\n",
       "      <td>A_51_P100155</td>\n",
       "      <td>10.947</td>\n",
       "      <td>10.582</td>\n",
       "      <td>10.406</td>\n",
       "      <td>11.054</td>\n",
       "      <td>10.770</td>\n",
       "      <td>10.402</td>\n",
       "      <td>10.610</td>\n",
       "      <td>10.512</td>\n",
       "      <td>10.492</td>\n",
       "      <td>10.485</td>\n",
       "      <td>10.839</td>\n",
       "      <td>10.535</td>\n",
       "      <td>10.674</td>\n",
       "      <td>10.333</td>\n",
       "      <td>10.622</td>\n",
       "      <td>10.302</td>\n",
       "      <td>10.339</td>\n",
       "      <td>10.572</td>\n",
       "    </tr>\n",
       "    <tr>\n",
       "      <th>4</th>\n",
       "      <td>A_51_P100174</td>\n",
       "      <td>6.632</td>\n",
       "      <td>6.089</td>\n",
       "      <td>6.012</td>\n",
       "      <td>6.190</td>\n",
       "      <td>6.260</td>\n",
       "      <td>6.131</td>\n",
       "      <td>5.993</td>\n",
       "      <td>6.274</td>\n",
       "      <td>6.002</td>\n",
       "      <td>6.011</td>\n",
       "      <td>6.124</td>\n",
       "      <td>6.062</td>\n",
       "      <td>6.375</td>\n",
       "      <td>6.087</td>\n",
       "      <td>6.152</td>\n",
       "      <td>6.202</td>\n",
       "      <td>6.209</td>\n",
       "      <td>6.172</td>\n",
       "    </tr>\n",
       "  </tbody>\n",
       "</table>\n",
       "</div>"
      ],
      "text/plain": [
       "             ID  liver_control_rep1  liver_control_rep2  liver_control_rep3  \\\n",
       "0  A_51_P100034              12.630              11.899              12.393   \n",
       "1  A_51_P100063               5.828               6.598               5.984   \n",
       "2  A_51_P100099               7.638               7.635               7.216   \n",
       "3  A_51_P100155              10.947              10.582              10.406   \n",
       "4  A_51_P100174               6.632               6.089               6.012   \n",
       "\n",
       "   liver_control_rep4  liver_control_rep5  liver_control_rep6  \\\n",
       "0              12.539              12.368              12.361   \n",
       "1               5.986               6.089               6.163   \n",
       "2               7.767               7.516               7.378   \n",
       "3              11.054              10.770              10.402   \n",
       "4               6.190               6.260               6.131   \n",
       "\n",
       "   liver_BPALowDose_rep1  liver_BPALowDose_rep2  liver_BPALowDose_rep3  \\\n",
       "0                 12.332                 12.148                 12.032   \n",
       "1                  6.384                  6.410                  5.984   \n",
       "2                  7.171                  7.558                  7.571   \n",
       "3                 10.610                 10.512                 10.492   \n",
       "4                  5.993                  6.274                  6.002   \n",
       "\n",
       "   liver_BPALowDose_rep4  liver_BPALowDose_rep5  liver_BPALowDose_rep6  \\\n",
       "0                 11.955                 12.222                 12.202   \n",
       "1                  6.158                  6.031                  5.833   \n",
       "2                  7.607                  7.523                  7.628   \n",
       "3                 10.485                 10.839                 10.535   \n",
       "4                  6.011                  6.124                  6.062   \n",
       "\n",
       "   liver_BPAHighDose_rep1  liver_BPAHighDose_rep2  liver_BPAHighDose_rep3  \\\n",
       "0                  12.107                  12.529                  11.838   \n",
       "1                   6.441                   7.814                   6.107   \n",
       "2                   7.461                   7.321                   7.792   \n",
       "3                  10.674                  10.333                  10.622   \n",
       "4                   6.375                   6.087                   6.152   \n",
       "\n",
       "   liver_BPAHighDose_rep4  liver_BPAHighDose_rep5  liver_BPAHighDose_rep6  \n",
       "0                  12.054                  12.223                  12.343  \n",
       "1                   7.017                   5.853                   6.656  \n",
       "2                   7.577                   7.412                   7.357  \n",
       "3                  10.302                  10.339                  10.572  \n",
       "4                   6.202                   6.209                   6.172  "
      ]
     },
     "execution_count": 2,
     "metadata": {},
     "output_type": "execute_result"
    }
   ],
   "source": [
    "data_expression = pd.read_csv('GSE26728.gct', sep='\\t', skiprows=2)\n",
    "data_expression = data_expression.drop(columns=['Description'])\n",
    "data_expression = data_expression.rename(columns={'Name':'ID'})\n",
    "print(data_expression.shape)\n",
    "data_expression.head()"
   ]
  },
  {
   "cell_type": "markdown",
   "metadata": {},
   "source": [
    "## 1.1 Мапим айдишники"
   ]
  },
  {
   "cell_type": "markdown",
   "metadata": {},
   "source": [
    "В этой табличке айдишники генов - внутренние айдишники оборудования (Agilent). Надо сопоставить их с какими-то нормальными айдишниками. Для этого с страницы платформы в GEO скачала еще одну табличку."
   ]
  },
  {
   "cell_type": "code",
   "execution_count": 3,
   "metadata": {},
   "outputs": [
    {
     "name": "stdout",
     "output_type": "stream",
     "text": [
      "(41174, 17)\n"
     ]
    },
    {
     "data": {
      "text/html": [
       "<div>\n",
       "<style scoped>\n",
       "    .dataframe tbody tr th:only-of-type {\n",
       "        vertical-align: middle;\n",
       "    }\n",
       "\n",
       "    .dataframe tbody tr th {\n",
       "        vertical-align: top;\n",
       "    }\n",
       "\n",
       "    .dataframe thead th {\n",
       "        text-align: right;\n",
       "    }\n",
       "</style>\n",
       "<table border=\"1\" class=\"dataframe\">\n",
       "  <thead>\n",
       "    <tr style=\"text-align: right;\">\n",
       "      <th></th>\n",
       "      <th>ID</th>\n",
       "      <th>SPOT_ID</th>\n",
       "      <th>CONTROL_TYPE</th>\n",
       "      <th>REFSEQ</th>\n",
       "      <th>GB_ACC</th>\n",
       "      <th>GENE</th>\n",
       "      <th>GENE_SYMBOL</th>\n",
       "      <th>GENE_NAME</th>\n",
       "      <th>UNIGENE_ID</th>\n",
       "      <th>ENSEMBL_ID</th>\n",
       "      <th>TIGR_ID</th>\n",
       "      <th>ACCESSION_STRING</th>\n",
       "      <th>CHROMOSOMAL_LOCATION</th>\n",
       "      <th>CYTOBAND</th>\n",
       "      <th>DESCRIPTION</th>\n",
       "      <th>GO_ID</th>\n",
       "      <th>SEQUENCE</th>\n",
       "    </tr>\n",
       "  </thead>\n",
       "  <tbody>\n",
       "    <tr>\n",
       "      <th>0</th>\n",
       "      <td>A_51_P100021</td>\n",
       "      <td>A_51_P100021</td>\n",
       "      <td>False</td>\n",
       "      <td>NaN</td>\n",
       "      <td>AY454345</td>\n",
       "      <td>16656.0</td>\n",
       "      <td>Hivep3</td>\n",
       "      <td>human immunodeficiency virus type I enhancer b...</td>\n",
       "      <td>Mm.302758</td>\n",
       "      <td>NaN</td>\n",
       "      <td>NaN</td>\n",
       "      <td>gb|AY454345|tc|TC1584815|nap|NAP057482-1</td>\n",
       "      <td>chr4:119807944-119808005</td>\n",
       "      <td>mm|4qD2.1</td>\n",
       "      <td>Mus musculus clone pZAS3 328-2275 zinc finger ...</td>\n",
       "      <td>GO:0003676(nucleic acid binding)|GO:0003677(DN...</td>\n",
       "      <td>CATGGCTGGATTAACGTATGTGTGTGGTATATAGATACACAGAGAG...</td>\n",
       "    </tr>\n",
       "    <tr>\n",
       "      <th>1</th>\n",
       "      <td>A_51_P100034</td>\n",
       "      <td>A_51_P100034</td>\n",
       "      <td>False</td>\n",
       "      <td>NM_027162</td>\n",
       "      <td>NM_027162</td>\n",
       "      <td>69674.0</td>\n",
       "      <td>Mif4gd</td>\n",
       "      <td>MIF4G domain containing</td>\n",
       "      <td>Mm.390387</td>\n",
       "      <td>NaN</td>\n",
       "      <td>NaN</td>\n",
       "      <td>ref|NM_027162|ref|NM_001243586|ref|NM_00124358...</td>\n",
       "      <td>chr11:115469328-115469269</td>\n",
       "      <td>mm|11qE2</td>\n",
       "      <td>Mus musculus MIF4G domain containing (Mif4gd),...</td>\n",
       "      <td>GO:0005488(binding)|GO:0005575(cellular_compon...</td>\n",
       "      <td>GAGACTTTTGTGGAGGAAGCCTGTTTCCTCCAGTCATGAGTGACTG...</td>\n",
       "    </tr>\n",
       "    <tr>\n",
       "      <th>2</th>\n",
       "      <td>A_51_P100052</td>\n",
       "      <td>A_51_P100052</td>\n",
       "      <td>False</td>\n",
       "      <td>NM_198863</td>\n",
       "      <td>NM_198863</td>\n",
       "      <td>245450.0</td>\n",
       "      <td>Slitrk2</td>\n",
       "      <td>SLIT and NTRK-like family, member 2</td>\n",
       "      <td>Mm.336081</td>\n",
       "      <td>ENSMUST00000036043</td>\n",
       "      <td>NaN</td>\n",
       "      <td>ref|NM_198863|ref|NM_001161431|ens|ENSMUST0000...</td>\n",
       "      <td>chrX:63908145-63908204</td>\n",
       "      <td>mm|XqA7.1</td>\n",
       "      <td>Mus musculus SLIT and NTRK-like family, member...</td>\n",
       "      <td>GO:0003674(molecular_function)|GO:0007409(axon...</td>\n",
       "      <td>CTAAATGTGAATTGCCAAGAAAGGAAGTTCACTAACATCTCTGACC...</td>\n",
       "    </tr>\n",
       "    <tr>\n",
       "      <th>3</th>\n",
       "      <td>A_51_P100063</td>\n",
       "      <td>A_51_P100063</td>\n",
       "      <td>False</td>\n",
       "      <td>NM_010727</td>\n",
       "      <td>NM_010727</td>\n",
       "      <td>16924.0</td>\n",
       "      <td>Lnx1</td>\n",
       "      <td>ligand of numb-protein X 1</td>\n",
       "      <td>Mm.440403</td>\n",
       "      <td>NaN</td>\n",
       "      <td>NaN</td>\n",
       "      <td>ref|NM_010727|ref|NM_001159577|ref|NM_00115957...</td>\n",
       "      <td>chr5:74993810-74993386</td>\n",
       "      <td>mm|5qC3.3</td>\n",
       "      <td>Mus musculus ligand of numb-protein X 1 (Lnx1)...</td>\n",
       "      <td>GO:0004842(ubiquitin-protein ligase activity)|...</td>\n",
       "      <td>GAAGAATCAGATGTGGTGACATTCTTCTCGCTGTCAACGGTAGAAG...</td>\n",
       "    </tr>\n",
       "    <tr>\n",
       "      <th>4</th>\n",
       "      <td>A_51_P100084</td>\n",
       "      <td>A_51_P100084</td>\n",
       "      <td>False</td>\n",
       "      <td>NaN</td>\n",
       "      <td>NaN</td>\n",
       "      <td>NaN</td>\n",
       "      <td>NaN</td>\n",
       "      <td>NaN</td>\n",
       "      <td>NaN</td>\n",
       "      <td>NaN</td>\n",
       "      <td>NaN</td>\n",
       "      <td>nap|NAP091803-1</td>\n",
       "      <td>unmapped</td>\n",
       "      <td>NaN</td>\n",
       "      <td>NaN</td>\n",
       "      <td>NaN</td>\n",
       "      <td>AAGTCATCTCTCATGCCTATCAGAATACTCTGCCTCTAAGCCCAAA...</td>\n",
       "    </tr>\n",
       "  </tbody>\n",
       "</table>\n",
       "</div>"
      ],
      "text/plain": [
       "             ID       SPOT_ID  CONTROL_TYPE     REFSEQ     GB_ACC      GENE  \\\n",
       "0  A_51_P100021  A_51_P100021         False        NaN   AY454345   16656.0   \n",
       "1  A_51_P100034  A_51_P100034         False  NM_027162  NM_027162   69674.0   \n",
       "2  A_51_P100052  A_51_P100052         False  NM_198863  NM_198863  245450.0   \n",
       "3  A_51_P100063  A_51_P100063         False  NM_010727  NM_010727   16924.0   \n",
       "4  A_51_P100084  A_51_P100084         False        NaN        NaN       NaN   \n",
       "\n",
       "  GENE_SYMBOL                                          GENE_NAME UNIGENE_ID  \\\n",
       "0      Hivep3  human immunodeficiency virus type I enhancer b...  Mm.302758   \n",
       "1      Mif4gd                            MIF4G domain containing  Mm.390387   \n",
       "2     Slitrk2                SLIT and NTRK-like family, member 2  Mm.336081   \n",
       "3        Lnx1                         ligand of numb-protein X 1  Mm.440403   \n",
       "4         NaN                                                NaN        NaN   \n",
       "\n",
       "           ENSEMBL_ID  TIGR_ID  \\\n",
       "0                 NaN      NaN   \n",
       "1                 NaN      NaN   \n",
       "2  ENSMUST00000036043      NaN   \n",
       "3                 NaN      NaN   \n",
       "4                 NaN      NaN   \n",
       "\n",
       "                                    ACCESSION_STRING  \\\n",
       "0           gb|AY454345|tc|TC1584815|nap|NAP057482-1   \n",
       "1  ref|NM_027162|ref|NM_001243586|ref|NM_00124358...   \n",
       "2  ref|NM_198863|ref|NM_001161431|ens|ENSMUST0000...   \n",
       "3  ref|NM_010727|ref|NM_001159577|ref|NM_00115957...   \n",
       "4                                    nap|NAP091803-1   \n",
       "\n",
       "        CHROMOSOMAL_LOCATION   CYTOBAND  \\\n",
       "0   chr4:119807944-119808005  mm|4qD2.1   \n",
       "1  chr11:115469328-115469269   mm|11qE2   \n",
       "2     chrX:63908145-63908204  mm|XqA7.1   \n",
       "3     chr5:74993810-74993386  mm|5qC3.3   \n",
       "4                   unmapped        NaN   \n",
       "\n",
       "                                         DESCRIPTION  \\\n",
       "0  Mus musculus clone pZAS3 328-2275 zinc finger ...   \n",
       "1  Mus musculus MIF4G domain containing (Mif4gd),...   \n",
       "2  Mus musculus SLIT and NTRK-like family, member...   \n",
       "3  Mus musculus ligand of numb-protein X 1 (Lnx1)...   \n",
       "4                                                NaN   \n",
       "\n",
       "                                               GO_ID  \\\n",
       "0  GO:0003676(nucleic acid binding)|GO:0003677(DN...   \n",
       "1  GO:0005488(binding)|GO:0005575(cellular_compon...   \n",
       "2  GO:0003674(molecular_function)|GO:0007409(axon...   \n",
       "3  GO:0004842(ubiquitin-protein ligase activity)|...   \n",
       "4                                                NaN   \n",
       "\n",
       "                                            SEQUENCE  \n",
       "0  CATGGCTGGATTAACGTATGTGTGTGGTATATAGATACACAGAGAG...  \n",
       "1  GAGACTTTTGTGGAGGAAGCCTGTTTCCTCCAGTCATGAGTGACTG...  \n",
       "2  CTAAATGTGAATTGCCAAGAAAGGAAGTTCACTAACATCTCTGACC...  \n",
       "3  GAAGAATCAGATGTGGTGACATTCTTCTCGCTGTCAACGGTAGAAG...  \n",
       "4  AAGTCATCTCTCATGCCTATCAGAATACTCTGCCTCTAAGCCCAAA...  "
      ]
     },
     "execution_count": 3,
     "metadata": {},
     "output_type": "execute_result"
    }
   ],
   "source": [
    "data_id = pd.read_csv('GPL7042-9573.txt', sep='\\t', skiprows=17)\n",
    "print(data_id.shape)\n",
    "data_id.head()"
   ]
  },
  {
   "cell_type": "markdown",
   "metadata": {},
   "source": [
    "Я оставила из этой таблички только то, что похоже на айдишники:"
   ]
  },
  {
   "cell_type": "code",
   "execution_count": 4,
   "metadata": {},
   "outputs": [
    {
     "data": {
      "text/plain": [
       "Index(['ID', 'SPOT_ID', 'CONTROL_TYPE', 'REFSEQ', 'GB_ACC', 'GENE',\n",
       "       'GENE_SYMBOL', 'GENE_NAME', 'UNIGENE_ID', 'ENSEMBL_ID', 'TIGR_ID',\n",
       "       'ACCESSION_STRING', 'CHROMOSOMAL_LOCATION', 'CYTOBAND', 'DESCRIPTION',\n",
       "       'GO_ID', 'SEQUENCE'],\n",
       "      dtype='object')"
      ]
     },
     "execution_count": 4,
     "metadata": {},
     "output_type": "execute_result"
    }
   ],
   "source": [
    "data_id.columns"
   ]
  },
  {
   "cell_type": "code",
   "execution_count": 5,
   "metadata": {},
   "outputs": [],
   "source": [
    "data_id = data_id[['ID', 'REFSEQ', 'GB_ACC', 'GENE',\n",
    "       'GENE_SYMBOL', 'GENE_NAME', 'UNIGENE_ID', 'ENSEMBL_ID', 'TIGR_ID']]"
   ]
  },
  {
   "cell_type": "code",
   "execution_count": 6,
   "metadata": {},
   "outputs": [
    {
     "data": {
      "text/plain": [
       "0"
      ]
     },
     "execution_count": 6,
     "metadata": {},
     "output_type": "execute_result"
    }
   ],
   "source": [
    "data_id['TIGR_ID'].count()"
   ]
  },
  {
   "cell_type": "markdown",
   "metadata": {},
   "source": [
    "Как видим, TIGR_ID сразу можно выкинуть. Также есть предположение, что множества генов, у которых есть GENE, GENE_SYMBOL или GENE_NAME совпадают, давайте в этом убедимся."
   ]
  },
  {
   "cell_type": "code",
   "execution_count": 7,
   "metadata": {},
   "outputs": [
    {
     "data": {
      "text/plain": [
       "True"
      ]
     },
     "execution_count": 7,
     "metadata": {},
     "output_type": "execute_result"
    }
   ],
   "source": [
    "(data_id.GENE.isna() == data_id.GENE_SYMBOL.isna()).all()"
   ]
  },
  {
   "cell_type": "code",
   "execution_count": 8,
   "metadata": {},
   "outputs": [
    {
     "data": {
      "text/plain": [
       "True"
      ]
     },
     "execution_count": 8,
     "metadata": {},
     "output_type": "execute_result"
    }
   ],
   "source": [
    "(data_id.GENE.isna() == data_id.GENE_NAME.isna()).all()"
   ]
  },
  {
   "cell_type": "markdown",
   "metadata": {},
   "source": [
    "Осталось выбрать из следующих айдишников."
   ]
  },
  {
   "cell_type": "code",
   "execution_count": 9,
   "metadata": {},
   "outputs": [],
   "source": [
    "data_id = data_id[['ID', 'REFSEQ', 'GB_ACC', 'GENE', 'UNIGENE_ID', 'ENSEMBL_ID']]"
   ]
  },
  {
   "cell_type": "code",
   "execution_count": 10,
   "metadata": {},
   "outputs": [
    {
     "data": {
      "text/html": [
       "<div>\n",
       "<style scoped>\n",
       "    .dataframe tbody tr th:only-of-type {\n",
       "        vertical-align: middle;\n",
       "    }\n",
       "\n",
       "    .dataframe tbody tr th {\n",
       "        vertical-align: top;\n",
       "    }\n",
       "\n",
       "    .dataframe thead th {\n",
       "        text-align: right;\n",
       "    }\n",
       "</style>\n",
       "<table border=\"1\" class=\"dataframe\">\n",
       "  <thead>\n",
       "    <tr style=\"text-align: right;\">\n",
       "      <th></th>\n",
       "      <th>ID</th>\n",
       "      <th>liver_control_rep1</th>\n",
       "      <th>liver_control_rep2</th>\n",
       "      <th>liver_control_rep3</th>\n",
       "      <th>liver_control_rep4</th>\n",
       "      <th>liver_control_rep5</th>\n",
       "      <th>liver_control_rep6</th>\n",
       "      <th>liver_BPALowDose_rep1</th>\n",
       "      <th>liver_BPALowDose_rep2</th>\n",
       "      <th>liver_BPALowDose_rep3</th>\n",
       "      <th>...</th>\n",
       "      <th>liver_BPAHighDose_rep2</th>\n",
       "      <th>liver_BPAHighDose_rep3</th>\n",
       "      <th>liver_BPAHighDose_rep4</th>\n",
       "      <th>liver_BPAHighDose_rep5</th>\n",
       "      <th>liver_BPAHighDose_rep6</th>\n",
       "      <th>REFSEQ</th>\n",
       "      <th>GB_ACC</th>\n",
       "      <th>GENE</th>\n",
       "      <th>UNIGENE_ID</th>\n",
       "      <th>ENSEMBL_ID</th>\n",
       "    </tr>\n",
       "  </thead>\n",
       "  <tbody>\n",
       "    <tr>\n",
       "      <th>0</th>\n",
       "      <td>A_51_P100034</td>\n",
       "      <td>12.630</td>\n",
       "      <td>11.899</td>\n",
       "      <td>12.393</td>\n",
       "      <td>12.539</td>\n",
       "      <td>12.368</td>\n",
       "      <td>12.361</td>\n",
       "      <td>12.332</td>\n",
       "      <td>12.148</td>\n",
       "      <td>12.032</td>\n",
       "      <td>...</td>\n",
       "      <td>12.529</td>\n",
       "      <td>11.838</td>\n",
       "      <td>12.054</td>\n",
       "      <td>12.223</td>\n",
       "      <td>12.343</td>\n",
       "      <td>NM_027162</td>\n",
       "      <td>NM_027162</td>\n",
       "      <td>69674.0</td>\n",
       "      <td>Mm.390387</td>\n",
       "      <td>NaN</td>\n",
       "    </tr>\n",
       "    <tr>\n",
       "      <th>1</th>\n",
       "      <td>A_51_P100063</td>\n",
       "      <td>5.828</td>\n",
       "      <td>6.598</td>\n",
       "      <td>5.984</td>\n",
       "      <td>5.986</td>\n",
       "      <td>6.089</td>\n",
       "      <td>6.163</td>\n",
       "      <td>6.384</td>\n",
       "      <td>6.410</td>\n",
       "      <td>5.984</td>\n",
       "      <td>...</td>\n",
       "      <td>7.814</td>\n",
       "      <td>6.107</td>\n",
       "      <td>7.017</td>\n",
       "      <td>5.853</td>\n",
       "      <td>6.656</td>\n",
       "      <td>NM_010727</td>\n",
       "      <td>NM_010727</td>\n",
       "      <td>16924.0</td>\n",
       "      <td>Mm.440403</td>\n",
       "      <td>NaN</td>\n",
       "    </tr>\n",
       "    <tr>\n",
       "      <th>2</th>\n",
       "      <td>A_51_P100099</td>\n",
       "      <td>7.638</td>\n",
       "      <td>7.635</td>\n",
       "      <td>7.216</td>\n",
       "      <td>7.767</td>\n",
       "      <td>7.516</td>\n",
       "      <td>7.378</td>\n",
       "      <td>7.171</td>\n",
       "      <td>7.558</td>\n",
       "      <td>7.571</td>\n",
       "      <td>...</td>\n",
       "      <td>7.321</td>\n",
       "      <td>7.792</td>\n",
       "      <td>7.577</td>\n",
       "      <td>7.412</td>\n",
       "      <td>7.357</td>\n",
       "      <td>NaN</td>\n",
       "      <td>AK011292</td>\n",
       "      <td>69886.0</td>\n",
       "      <td>Mm.391799</td>\n",
       "      <td>NaN</td>\n",
       "    </tr>\n",
       "    <tr>\n",
       "      <th>3</th>\n",
       "      <td>A_51_P100155</td>\n",
       "      <td>10.947</td>\n",
       "      <td>10.582</td>\n",
       "      <td>10.406</td>\n",
       "      <td>11.054</td>\n",
       "      <td>10.770</td>\n",
       "      <td>10.402</td>\n",
       "      <td>10.610</td>\n",
       "      <td>10.512</td>\n",
       "      <td>10.492</td>\n",
       "      <td>...</td>\n",
       "      <td>10.333</td>\n",
       "      <td>10.622</td>\n",
       "      <td>10.302</td>\n",
       "      <td>10.339</td>\n",
       "      <td>10.572</td>\n",
       "      <td>NM_027371</td>\n",
       "      <td>NM_027371</td>\n",
       "      <td>70285.0</td>\n",
       "      <td>Mm.28128</td>\n",
       "      <td>ENSMUST00000029838</td>\n",
       "    </tr>\n",
       "    <tr>\n",
       "      <th>4</th>\n",
       "      <td>A_51_P100174</td>\n",
       "      <td>6.632</td>\n",
       "      <td>6.089</td>\n",
       "      <td>6.012</td>\n",
       "      <td>6.190</td>\n",
       "      <td>6.260</td>\n",
       "      <td>6.131</td>\n",
       "      <td>5.993</td>\n",
       "      <td>6.274</td>\n",
       "      <td>6.002</td>\n",
       "      <td>...</td>\n",
       "      <td>6.087</td>\n",
       "      <td>6.152</td>\n",
       "      <td>6.202</td>\n",
       "      <td>6.209</td>\n",
       "      <td>6.172</td>\n",
       "      <td>NM_008613</td>\n",
       "      <td>NM_008613</td>\n",
       "      <td>17427.0</td>\n",
       "      <td>Mm.387671</td>\n",
       "      <td>ENSMUST00000034746</td>\n",
       "    </tr>\n",
       "  </tbody>\n",
       "</table>\n",
       "<p>5 rows × 24 columns</p>\n",
       "</div>"
      ],
      "text/plain": [
       "             ID  liver_control_rep1  liver_control_rep2  liver_control_rep3  \\\n",
       "0  A_51_P100034              12.630              11.899              12.393   \n",
       "1  A_51_P100063               5.828               6.598               5.984   \n",
       "2  A_51_P100099               7.638               7.635               7.216   \n",
       "3  A_51_P100155              10.947              10.582              10.406   \n",
       "4  A_51_P100174               6.632               6.089               6.012   \n",
       "\n",
       "   liver_control_rep4  liver_control_rep5  liver_control_rep6  \\\n",
       "0              12.539              12.368              12.361   \n",
       "1               5.986               6.089               6.163   \n",
       "2               7.767               7.516               7.378   \n",
       "3              11.054              10.770              10.402   \n",
       "4               6.190               6.260               6.131   \n",
       "\n",
       "   liver_BPALowDose_rep1  liver_BPALowDose_rep2  liver_BPALowDose_rep3  ...  \\\n",
       "0                 12.332                 12.148                 12.032  ...   \n",
       "1                  6.384                  6.410                  5.984  ...   \n",
       "2                  7.171                  7.558                  7.571  ...   \n",
       "3                 10.610                 10.512                 10.492  ...   \n",
       "4                  5.993                  6.274                  6.002  ...   \n",
       "\n",
       "   liver_BPAHighDose_rep2  liver_BPAHighDose_rep3  liver_BPAHighDose_rep4  \\\n",
       "0                  12.529                  11.838                  12.054   \n",
       "1                   7.814                   6.107                   7.017   \n",
       "2                   7.321                   7.792                   7.577   \n",
       "3                  10.333                  10.622                  10.302   \n",
       "4                   6.087                   6.152                   6.202   \n",
       "\n",
       "   liver_BPAHighDose_rep5  liver_BPAHighDose_rep6     REFSEQ     GB_ACC  \\\n",
       "0                  12.223                  12.343  NM_027162  NM_027162   \n",
       "1                   5.853                   6.656  NM_010727  NM_010727   \n",
       "2                   7.412                   7.357        NaN   AK011292   \n",
       "3                  10.339                  10.572  NM_027371  NM_027371   \n",
       "4                   6.209                   6.172  NM_008613  NM_008613   \n",
       "\n",
       "      GENE  UNIGENE_ID          ENSEMBL_ID  \n",
       "0  69674.0   Mm.390387                 NaN  \n",
       "1  16924.0   Mm.440403                 NaN  \n",
       "2  69886.0   Mm.391799                 NaN  \n",
       "3  70285.0    Mm.28128  ENSMUST00000029838  \n",
       "4  17427.0   Mm.387671  ENSMUST00000034746  \n",
       "\n",
       "[5 rows x 24 columns]"
      ]
     },
     "execution_count": 10,
     "metadata": {},
     "output_type": "execute_result"
    }
   ],
   "source": [
    "data = data_expression.merge(data_id, on='ID', how='left')\n",
    "data.head()"
   ]
  },
  {
   "cell_type": "code",
   "execution_count": 11,
   "metadata": {},
   "outputs": [
    {
     "data": {
      "text/plain": [
       "ID                        22514\n",
       "liver_control_rep1        22514\n",
       "liver_control_rep2        22514\n",
       "liver_control_rep3        22514\n",
       "liver_control_rep4        22514\n",
       "liver_control_rep5        22514\n",
       "liver_control_rep6        22514\n",
       "liver_BPALowDose_rep1     22514\n",
       "liver_BPALowDose_rep2     22514\n",
       "liver_BPALowDose_rep3     22514\n",
       "liver_BPALowDose_rep4     22514\n",
       "liver_BPALowDose_rep5     22514\n",
       "liver_BPALowDose_rep6     22514\n",
       "liver_BPAHighDose_rep1    22514\n",
       "liver_BPAHighDose_rep2    22514\n",
       "liver_BPAHighDose_rep3    22514\n",
       "liver_BPAHighDose_rep4    22514\n",
       "liver_BPAHighDose_rep5    22514\n",
       "liver_BPAHighDose_rep6    22514\n",
       "REFSEQ                    18410\n",
       "GB_ACC                    21568\n",
       "GENE                      20702\n",
       "UNIGENE_ID                20800\n",
       "ENSEMBL_ID                17890\n",
       "dtype: int64"
      ]
     },
     "execution_count": 11,
     "metadata": {},
     "output_type": "execute_result"
    }
   ],
   "source": [
    "data.count()"
   ]
  },
  {
   "cell_type": "markdown",
   "metadata": {},
   "source": [
    "Как видим, самые заполненные айдишники -- GB_ACC, GENE и UNIGENE_ID. Разница по заполненности между ними не очень большая, при этом GENE (Entrez) самый удобный и стабильный из них, так что выбираем его"
   ]
  },
  {
   "cell_type": "code",
   "execution_count": 12,
   "metadata": {},
   "outputs": [
    {
     "data": {
      "text/html": [
       "<div>\n",
       "<style scoped>\n",
       "    .dataframe tbody tr th:only-of-type {\n",
       "        vertical-align: middle;\n",
       "    }\n",
       "\n",
       "    .dataframe tbody tr th {\n",
       "        vertical-align: top;\n",
       "    }\n",
       "\n",
       "    .dataframe thead th {\n",
       "        text-align: right;\n",
       "    }\n",
       "</style>\n",
       "<table border=\"1\" class=\"dataframe\">\n",
       "  <thead>\n",
       "    <tr style=\"text-align: right;\">\n",
       "      <th></th>\n",
       "      <th>ID</th>\n",
       "      <th>Gene_ID</th>\n",
       "      <th>liver_control_rep1</th>\n",
       "      <th>liver_control_rep2</th>\n",
       "      <th>liver_control_rep3</th>\n",
       "      <th>liver_control_rep4</th>\n",
       "      <th>liver_control_rep5</th>\n",
       "      <th>liver_control_rep6</th>\n",
       "      <th>liver_BPALowDose_rep1</th>\n",
       "      <th>liver_BPALowDose_rep2</th>\n",
       "      <th>liver_BPALowDose_rep3</th>\n",
       "      <th>liver_BPALowDose_rep4</th>\n",
       "      <th>liver_BPALowDose_rep5</th>\n",
       "      <th>liver_BPALowDose_rep6</th>\n",
       "      <th>liver_BPAHighDose_rep1</th>\n",
       "      <th>liver_BPAHighDose_rep2</th>\n",
       "      <th>liver_BPAHighDose_rep3</th>\n",
       "      <th>liver_BPAHighDose_rep4</th>\n",
       "      <th>liver_BPAHighDose_rep5</th>\n",
       "      <th>liver_BPAHighDose_rep6</th>\n",
       "    </tr>\n",
       "  </thead>\n",
       "  <tbody>\n",
       "    <tr>\n",
       "      <th>0</th>\n",
       "      <td>A_51_P100034</td>\n",
       "      <td>69674.0</td>\n",
       "      <td>12.630</td>\n",
       "      <td>11.899</td>\n",
       "      <td>12.393</td>\n",
       "      <td>12.539</td>\n",
       "      <td>12.368</td>\n",
       "      <td>12.361</td>\n",
       "      <td>12.332</td>\n",
       "      <td>12.148</td>\n",
       "      <td>12.032</td>\n",
       "      <td>11.955</td>\n",
       "      <td>12.222</td>\n",
       "      <td>12.202</td>\n",
       "      <td>12.107</td>\n",
       "      <td>12.529</td>\n",
       "      <td>11.838</td>\n",
       "      <td>12.054</td>\n",
       "      <td>12.223</td>\n",
       "      <td>12.343</td>\n",
       "    </tr>\n",
       "    <tr>\n",
       "      <th>1</th>\n",
       "      <td>A_51_P100063</td>\n",
       "      <td>16924.0</td>\n",
       "      <td>5.828</td>\n",
       "      <td>6.598</td>\n",
       "      <td>5.984</td>\n",
       "      <td>5.986</td>\n",
       "      <td>6.089</td>\n",
       "      <td>6.163</td>\n",
       "      <td>6.384</td>\n",
       "      <td>6.410</td>\n",
       "      <td>5.984</td>\n",
       "      <td>6.158</td>\n",
       "      <td>6.031</td>\n",
       "      <td>5.833</td>\n",
       "      <td>6.441</td>\n",
       "      <td>7.814</td>\n",
       "      <td>6.107</td>\n",
       "      <td>7.017</td>\n",
       "      <td>5.853</td>\n",
       "      <td>6.656</td>\n",
       "    </tr>\n",
       "    <tr>\n",
       "      <th>2</th>\n",
       "      <td>A_51_P100099</td>\n",
       "      <td>69886.0</td>\n",
       "      <td>7.638</td>\n",
       "      <td>7.635</td>\n",
       "      <td>7.216</td>\n",
       "      <td>7.767</td>\n",
       "      <td>7.516</td>\n",
       "      <td>7.378</td>\n",
       "      <td>7.171</td>\n",
       "      <td>7.558</td>\n",
       "      <td>7.571</td>\n",
       "      <td>7.607</td>\n",
       "      <td>7.523</td>\n",
       "      <td>7.628</td>\n",
       "      <td>7.461</td>\n",
       "      <td>7.321</td>\n",
       "      <td>7.792</td>\n",
       "      <td>7.577</td>\n",
       "      <td>7.412</td>\n",
       "      <td>7.357</td>\n",
       "    </tr>\n",
       "    <tr>\n",
       "      <th>3</th>\n",
       "      <td>A_51_P100155</td>\n",
       "      <td>70285.0</td>\n",
       "      <td>10.947</td>\n",
       "      <td>10.582</td>\n",
       "      <td>10.406</td>\n",
       "      <td>11.054</td>\n",
       "      <td>10.770</td>\n",
       "      <td>10.402</td>\n",
       "      <td>10.610</td>\n",
       "      <td>10.512</td>\n",
       "      <td>10.492</td>\n",
       "      <td>10.485</td>\n",
       "      <td>10.839</td>\n",
       "      <td>10.535</td>\n",
       "      <td>10.674</td>\n",
       "      <td>10.333</td>\n",
       "      <td>10.622</td>\n",
       "      <td>10.302</td>\n",
       "      <td>10.339</td>\n",
       "      <td>10.572</td>\n",
       "    </tr>\n",
       "    <tr>\n",
       "      <th>4</th>\n",
       "      <td>A_51_P100174</td>\n",
       "      <td>17427.0</td>\n",
       "      <td>6.632</td>\n",
       "      <td>6.089</td>\n",
       "      <td>6.012</td>\n",
       "      <td>6.190</td>\n",
       "      <td>6.260</td>\n",
       "      <td>6.131</td>\n",
       "      <td>5.993</td>\n",
       "      <td>6.274</td>\n",
       "      <td>6.002</td>\n",
       "      <td>6.011</td>\n",
       "      <td>6.124</td>\n",
       "      <td>6.062</td>\n",
       "      <td>6.375</td>\n",
       "      <td>6.087</td>\n",
       "      <td>6.152</td>\n",
       "      <td>6.202</td>\n",
       "      <td>6.209</td>\n",
       "      <td>6.172</td>\n",
       "    </tr>\n",
       "  </tbody>\n",
       "</table>\n",
       "</div>"
      ],
      "text/plain": [
       "             ID  Gene_ID  liver_control_rep1  liver_control_rep2  \\\n",
       "0  A_51_P100034  69674.0              12.630              11.899   \n",
       "1  A_51_P100063  16924.0               5.828               6.598   \n",
       "2  A_51_P100099  69886.0               7.638               7.635   \n",
       "3  A_51_P100155  70285.0              10.947              10.582   \n",
       "4  A_51_P100174  17427.0               6.632               6.089   \n",
       "\n",
       "   liver_control_rep3  liver_control_rep4  liver_control_rep5  \\\n",
       "0              12.393              12.539              12.368   \n",
       "1               5.984               5.986               6.089   \n",
       "2               7.216               7.767               7.516   \n",
       "3              10.406              11.054              10.770   \n",
       "4               6.012               6.190               6.260   \n",
       "\n",
       "   liver_control_rep6  liver_BPALowDose_rep1  liver_BPALowDose_rep2  \\\n",
       "0              12.361                 12.332                 12.148   \n",
       "1               6.163                  6.384                  6.410   \n",
       "2               7.378                  7.171                  7.558   \n",
       "3              10.402                 10.610                 10.512   \n",
       "4               6.131                  5.993                  6.274   \n",
       "\n",
       "   liver_BPALowDose_rep3  liver_BPALowDose_rep4  liver_BPALowDose_rep5  \\\n",
       "0                 12.032                 11.955                 12.222   \n",
       "1                  5.984                  6.158                  6.031   \n",
       "2                  7.571                  7.607                  7.523   \n",
       "3                 10.492                 10.485                 10.839   \n",
       "4                  6.002                  6.011                  6.124   \n",
       "\n",
       "   liver_BPALowDose_rep6  liver_BPAHighDose_rep1  liver_BPAHighDose_rep2  \\\n",
       "0                 12.202                  12.107                  12.529   \n",
       "1                  5.833                   6.441                   7.814   \n",
       "2                  7.628                   7.461                   7.321   \n",
       "3                 10.535                  10.674                  10.333   \n",
       "4                  6.062                   6.375                   6.087   \n",
       "\n",
       "   liver_BPAHighDose_rep3  liver_BPAHighDose_rep4  liver_BPAHighDose_rep5  \\\n",
       "0                  11.838                  12.054                  12.223   \n",
       "1                   6.107                   7.017                   5.853   \n",
       "2                   7.792                   7.577                   7.412   \n",
       "3                  10.622                  10.302                  10.339   \n",
       "4                   6.152                   6.202                   6.209   \n",
       "\n",
       "   liver_BPAHighDose_rep6  \n",
       "0                  12.343  \n",
       "1                   6.656  \n",
       "2                   7.357  \n",
       "3                  10.572  \n",
       "4                   6.172  "
      ]
     },
     "execution_count": 12,
     "metadata": {},
     "output_type": "execute_result"
    }
   ],
   "source": [
    "data.drop(columns=['REFSEQ', 'GB_ACC', 'UNIGENE_ID', 'ENSEMBL_ID'], inplace=True)\n",
    "data = data.rename(columns={'GENE' : 'Gene_ID'})\n",
    "data = data.reindex(columns=['ID', 'Gene_ID'] + list(data.columns[1:-1]))\n",
    "data.head()"
   ]
  },
  {
   "cell_type": "markdown",
   "metadata": {},
   "source": [
    "## 1.2 Получение информации о генах"
   ]
  },
  {
   "cell_type": "markdown",
   "metadata": {},
   "source": [
    "#### Всего в исследовании 22514 генов\n",
    "#### Из них у 1812 нет Entrez (~ 8%). Их пришлось отбросить, осталось 20702 генов.\n",
    "#### Из оставшихся 20702 такая ситуация с повторами:\n",
    "* ##### Уникальных генов: 13321\n",
    "* ##### Повторяющихся 1 раз: 8059\n",
    "* ##### Повторяющихся 2 раза: 3682\n",
    "* ##### Повторяющихся 3 раза: 1160\n",
    "* ##### Повторяющихся 4 раза: 323\n",
    "* ##### Повторяющихся 5 раз: 78\n",
    "* ##### Повторяющихся 6 раз: 16\n",
    "* ##### Повторяющихся 7 раз: 3"
   ]
  },
  {
   "cell_type": "code",
   "execution_count": 13,
   "metadata": {},
   "outputs": [
    {
     "data": {
      "text/plain": [
       "22514"
      ]
     },
     "execution_count": 13,
     "metadata": {},
     "output_type": "execute_result"
    }
   ],
   "source": [
    "num_genes = data.shape[0] # Всего генов\n",
    "num_genes"
   ]
  },
  {
   "cell_type": "code",
   "execution_count": 14,
   "metadata": {},
   "outputs": [
    {
     "data": {
      "text/plain": [
       "20702"
      ]
     },
     "execution_count": 14,
     "metadata": {},
     "output_type": "execute_result"
    }
   ],
   "source": [
    "num_entrez_genes = data[['Gene_ID']].count()[0] # Гены, у которых есть Entrez\n",
    "num_entrez_genes"
   ]
  },
  {
   "cell_type": "code",
   "execution_count": 15,
   "metadata": {},
   "outputs": [
    {
     "data": {
      "text/plain": [
       "0.0804832548636404"
      ]
     },
     "execution_count": 15,
     "metadata": {},
     "output_type": "execute_result"
    }
   ],
   "source": [
    "(num_genes - num_entrez_genes) / num_genes # Доля генов без Entrez"
   ]
  },
  {
   "cell_type": "markdown",
   "metadata": {},
   "source": [
    "Уберем гены без Entrez"
   ]
  },
  {
   "cell_type": "code",
   "execution_count": 16,
   "metadata": {},
   "outputs": [],
   "source": [
    "data.dropna(subset=['Gene_ID'], inplace=True) \n",
    "data = data.astype({'Gene_ID':'int32'})"
   ]
  },
  {
   "cell_type": "markdown",
   "metadata": {},
   "source": [
    "И посмотрим, сколько в наших данных повторов"
   ]
  },
  {
   "cell_type": "code",
   "execution_count": 17,
   "metadata": {},
   "outputs": [],
   "source": [
    "def print_count(data):\n",
    "    data_count = data.groupby(['Gene_ID']).size().reset_index(name='count')\n",
    "    current_total_num = 0\n",
    "    total_num = len(data_count)\n",
    "    i = 1\n",
    "    print(f'Unique genes: {len(data_count)}')\n",
    "    while current_total_num < total_num:\n",
    "        current_num = len(data_count[data_count['count'] == i])\n",
    "        print(f'Genes repeating {i} times: {current_num}')\n",
    "        current_total_num += current_num\n",
    "        i += 1"
   ]
  },
  {
   "cell_type": "code",
   "execution_count": 18,
   "metadata": {},
   "outputs": [
    {
     "name": "stdout",
     "output_type": "stream",
     "text": [
      "Unique genes: 13321\n",
      "Genes repeating 1 times: 8059\n",
      "Genes repeating 2 times: 3682\n",
      "Genes repeating 3 times: 1160\n",
      "Genes repeating 4 times: 323\n",
      "Genes repeating 5 times: 78\n",
      "Genes repeating 6 times: 16\n",
      "Genes repeating 7 times: 3\n"
     ]
    }
   ],
   "source": [
    "print_count(data)"
   ]
  },
  {
   "cell_type": "markdown",
   "metadata": {},
   "source": [
    "## 1.3 Что еще можно сказать о данных"
   ]
  },
  {
   "cell_type": "markdown",
   "metadata": {},
   "source": [
    "### Хочется посмотреть на распределение данных."
   ]
  },
  {
   "cell_type": "markdown",
   "metadata": {},
   "source": [
    "### Можно сказать, что в принципе распределения всех столбиков очень похоже друг на друга. \n",
    "* ### С одной стороны, это хорошо, ведь было бы странно, если бы сильно отличались между собой, например, распределения двух столбиков контроля.\n",
    "* ### С другой стороны это плохо, так как явно не видно различий в распределениях между control / low dose / high dose."
   ]
  },
  {
   "cell_type": "code",
   "execution_count": 22,
   "metadata": {},
   "outputs": [],
   "source": [
    "def dist_plot(data, columns, title):\n",
    "    plt.figure(figsize=(12, 7))\n",
    "    for i, column in enumerate(columns):\n",
    "        sns.distplot(data[column], label=column)\n",
    "        plt.title(f'Распределения, {title}')\n",
    "        plt.legend()"
   ]
  },
  {
   "cell_type": "markdown",
   "metadata": {},
   "source": [
    "# Контроль"
   ]
  },
  {
   "cell_type": "code",
   "execution_count": 23,
   "metadata": {},
   "outputs": [
    {
     "data": {
      "image/png": "[encoded data removed]",
      "text/plain": [
       "<Figure size 864x504 with 1 Axes>"
      ]
     },
     "metadata": {
      "needs_background": "light"
     },
     "output_type": "display_data"
    }
   ],
   "source": [
    "dist_plot(data, ['liver_control_rep1', 'liver_control_rep2', 'liver_control_rep3'] , 'контроль')"
   ]
  },
  {
   "cell_type": "code",
   "execution_count": 24,
   "metadata": {},
   "outputs": [
    {
     "data": {
      "image/png": "[encoded data removed]",
      "text/plain": [
       "<Figure size 864x504 with 1 Axes>"
      ]
     },
     "metadata": {
      "needs_background": "light"
     },
     "output_type": "display_data"
    }
   ],
   "source": [
    "dist_plot(data, ['liver_control_rep4', 'liver_control_rep5', 'liver_control_rep6'] , 'контроль')"
   ]
  },
  {
   "cell_type": "markdown",
   "metadata": {},
   "source": [
    "# Low dose"
   ]
  },
  {
   "cell_type": "code",
   "execution_count": 26,
   "metadata": {},
   "outputs": [
    {
     "data": {
      "image/png": "[encoded data removed]",
      "text/plain": [
       "<Figure size 864x504 with 1 Axes>"
      ]
     },
     "metadata": {
      "needs_background": "light"
     },
     "output_type": "display_data"
    }
   ],
   "source": [
    "dist_plot(data, ['liver_BPALowDose_rep1', 'liver_BPALowDose_rep2', 'liver_BPALowDose_rep3'], 'Low dose')"
   ]
  },
  {
   "cell_type": "code",
   "execution_count": 27,
   "metadata": {},
   "outputs": [
    {
     "data": {
      "image/png": "[encoded data removed]",
      "text/plain": [
       "<Figure size 864x504 with 1 Axes>"
      ]
     },
     "metadata": {
      "needs_background": "light"
     },
     "output_type": "display_data"
    }
   ],
   "source": [
    "dist_plot(data, ['liver_BPALowDose_rep4', 'liver_BPALowDose_rep5', 'liver_BPALowDose_rep6'], 'Low dose')"
   ]
  },
  {
   "cell_type": "markdown",
   "metadata": {},
   "source": [
    "# High dose"
   ]
  },
  {
   "cell_type": "code",
   "execution_count": 28,
   "metadata": {},
   "outputs": [
    {
     "data": {
      "image/png": "[encoded data removed]",
      "text/plain": [
       "<Figure size 864x504 with 1 Axes>"
      ]
     },
     "metadata": {
      "needs_background": "light"
     },
     "output_type": "display_data"
    }
   ],
   "source": [
    "dist_plot(data, ['liver_BPAHighDose_rep1', 'liver_BPAHighDose_rep2', 'liver_BPAHighDose_rep3'], 'High dose')"
   ]
  },
  {
   "cell_type": "code",
   "execution_count": 29,
   "metadata": {},
   "outputs": [
    {
     "data": {
      "image/png": "[encoded data removed]",
      "text/plain": [
       "<Figure size 864x504 with 1 Axes>"
      ]
     },
     "metadata": {
      "needs_background": "light"
     },
     "output_type": "display_data"
    }
   ],
   "source": [
    "dist_plot(data, ['liver_BPAHighDose_rep4', 'liver_BPAHighDose_rep5', 'liver_BPAHighDose_rep6'], 'High dose')"
   ]
  },
  {
   "cell_type": "markdown",
   "metadata": {},
   "source": [
    "# 2. Подсчет средних"
   ]
  },
  {
   "cell_type": "markdown",
   "metadata": {},
   "source": [
    "Сперва усредним все значения между дубликатами (по каждому столбику отдельно). Нам это в любом случае пригодится, когда будем делать третье задание."
   ]
  },
  {
   "cell_type": "code",
   "execution_count": 30,
   "metadata": {},
   "outputs": [],
   "source": [
    "data = data.groupby(['Gene_ID']).mean()"
   ]
  },
  {
   "cell_type": "code",
   "execution_count": 31,
   "metadata": {},
   "outputs": [
    {
     "data": {
      "text/html": [
       "<div>\n",
       "<style scoped>\n",
       "    .dataframe tbody tr th:only-of-type {\n",
       "        vertical-align: middle;\n",
       "    }\n",
       "\n",
       "    .dataframe tbody tr th {\n",
       "        vertical-align: top;\n",
       "    }\n",
       "\n",
       "    .dataframe thead th {\n",
       "        text-align: right;\n",
       "    }\n",
       "</style>\n",
       "<table border=\"1\" class=\"dataframe\">\n",
       "  <thead>\n",
       "    <tr style=\"text-align: right;\">\n",
       "      <th></th>\n",
       "      <th>liver_control_rep1</th>\n",
       "      <th>liver_control_rep2</th>\n",
       "      <th>liver_control_rep3</th>\n",
       "      <th>liver_control_rep4</th>\n",
       "      <th>liver_control_rep5</th>\n",
       "      <th>liver_control_rep6</th>\n",
       "      <th>liver_BPALowDose_rep1</th>\n",
       "      <th>liver_BPALowDose_rep2</th>\n",
       "      <th>liver_BPALowDose_rep3</th>\n",
       "      <th>liver_BPALowDose_rep4</th>\n",
       "      <th>liver_BPALowDose_rep5</th>\n",
       "      <th>liver_BPALowDose_rep6</th>\n",
       "      <th>liver_BPAHighDose_rep1</th>\n",
       "      <th>liver_BPAHighDose_rep2</th>\n",
       "      <th>liver_BPAHighDose_rep3</th>\n",
       "      <th>liver_BPAHighDose_rep4</th>\n",
       "      <th>liver_BPAHighDose_rep5</th>\n",
       "      <th>liver_BPAHighDose_rep6</th>\n",
       "    </tr>\n",
       "    <tr>\n",
       "      <th>Gene_ID</th>\n",
       "      <th></th>\n",
       "      <th></th>\n",
       "      <th></th>\n",
       "      <th></th>\n",
       "      <th></th>\n",
       "      <th></th>\n",
       "      <th></th>\n",
       "      <th></th>\n",
       "      <th></th>\n",
       "      <th></th>\n",
       "      <th></th>\n",
       "      <th></th>\n",
       "      <th></th>\n",
       "      <th></th>\n",
       "      <th></th>\n",
       "      <th></th>\n",
       "      <th></th>\n",
       "      <th></th>\n",
       "    </tr>\n",
       "  </thead>\n",
       "  <tbody>\n",
       "    <tr>\n",
       "      <th>11287</th>\n",
       "      <td>15.624</td>\n",
       "      <td>15.444</td>\n",
       "      <td>14.9970</td>\n",
       "      <td>15.2540</td>\n",
       "      <td>15.6080</td>\n",
       "      <td>15.207</td>\n",
       "      <td>15.247</td>\n",
       "      <td>15.614</td>\n",
       "      <td>15.0180</td>\n",
       "      <td>15.314</td>\n",
       "      <td>15.501</td>\n",
       "      <td>15.4910</td>\n",
       "      <td>15.081</td>\n",
       "      <td>15.997</td>\n",
       "      <td>15.484</td>\n",
       "      <td>15.310</td>\n",
       "      <td>15.3370</td>\n",
       "      <td>14.982</td>\n",
       "    </tr>\n",
       "    <tr>\n",
       "      <th>11298</th>\n",
       "      <td>6.470</td>\n",
       "      <td>5.917</td>\n",
       "      <td>6.1420</td>\n",
       "      <td>6.3570</td>\n",
       "      <td>6.3340</td>\n",
       "      <td>5.527</td>\n",
       "      <td>5.882</td>\n",
       "      <td>5.393</td>\n",
       "      <td>6.5130</td>\n",
       "      <td>6.097</td>\n",
       "      <td>5.965</td>\n",
       "      <td>6.1230</td>\n",
       "      <td>6.268</td>\n",
       "      <td>5.913</td>\n",
       "      <td>6.061</td>\n",
       "      <td>6.507</td>\n",
       "      <td>5.9670</td>\n",
       "      <td>6.106</td>\n",
       "    </tr>\n",
       "    <tr>\n",
       "      <th>11302</th>\n",
       "      <td>7.755</td>\n",
       "      <td>7.628</td>\n",
       "      <td>7.7900</td>\n",
       "      <td>7.7940</td>\n",
       "      <td>7.8030</td>\n",
       "      <td>7.904</td>\n",
       "      <td>7.912</td>\n",
       "      <td>7.398</td>\n",
       "      <td>7.5500</td>\n",
       "      <td>7.502</td>\n",
       "      <td>7.678</td>\n",
       "      <td>7.2040</td>\n",
       "      <td>7.739</td>\n",
       "      <td>7.516</td>\n",
       "      <td>7.733</td>\n",
       "      <td>8.020</td>\n",
       "      <td>8.2370</td>\n",
       "      <td>7.927</td>\n",
       "    </tr>\n",
       "    <tr>\n",
       "      <th>11303</th>\n",
       "      <td>11.248</td>\n",
       "      <td>11.339</td>\n",
       "      <td>11.0730</td>\n",
       "      <td>11.2190</td>\n",
       "      <td>11.0800</td>\n",
       "      <td>11.452</td>\n",
       "      <td>11.630</td>\n",
       "      <td>11.921</td>\n",
       "      <td>11.5680</td>\n",
       "      <td>11.618</td>\n",
       "      <td>11.402</td>\n",
       "      <td>11.3810</td>\n",
       "      <td>11.497</td>\n",
       "      <td>12.071</td>\n",
       "      <td>11.332</td>\n",
       "      <td>11.897</td>\n",
       "      <td>11.6240</td>\n",
       "      <td>10.868</td>\n",
       "    </tr>\n",
       "    <tr>\n",
       "      <th>11305</th>\n",
       "      <td>8.447</td>\n",
       "      <td>8.979</td>\n",
       "      <td>8.6535</td>\n",
       "      <td>8.7735</td>\n",
       "      <td>8.1155</td>\n",
       "      <td>8.362</td>\n",
       "      <td>8.032</td>\n",
       "      <td>8.419</td>\n",
       "      <td>8.6255</td>\n",
       "      <td>8.802</td>\n",
       "      <td>8.290</td>\n",
       "      <td>8.6915</td>\n",
       "      <td>8.781</td>\n",
       "      <td>8.905</td>\n",
       "      <td>8.583</td>\n",
       "      <td>8.582</td>\n",
       "      <td>8.6875</td>\n",
       "      <td>8.598</td>\n",
       "    </tr>\n",
       "  </tbody>\n",
       "</table>\n",
       "</div>"
      ],
      "text/plain": [
       "         liver_control_rep1  liver_control_rep2  liver_control_rep3  \\\n",
       "Gene_ID                                                               \n",
       "11287                15.624              15.444             14.9970   \n",
       "11298                 6.470               5.917              6.1420   \n",
       "11302                 7.755               7.628              7.7900   \n",
       "11303                11.248              11.339             11.0730   \n",
       "11305                 8.447               8.979              8.6535   \n",
       "\n",
       "         liver_control_rep4  liver_control_rep5  liver_control_rep6  \\\n",
       "Gene_ID                                                               \n",
       "11287               15.2540             15.6080              15.207   \n",
       "11298                6.3570              6.3340               5.527   \n",
       "11302                7.7940              7.8030               7.904   \n",
       "11303               11.2190             11.0800              11.452   \n",
       "11305                8.7735              8.1155               8.362   \n",
       "\n",
       "         liver_BPALowDose_rep1  liver_BPALowDose_rep2  liver_BPALowDose_rep3  \\\n",
       "Gene_ID                                                                        \n",
       "11287                   15.247                 15.614                15.0180   \n",
       "11298                    5.882                  5.393                 6.5130   \n",
       "11302                    7.912                  7.398                 7.5500   \n",
       "11303                   11.630                 11.921                11.5680   \n",
       "11305                    8.032                  8.419                 8.6255   \n",
       "\n",
       "         liver_BPALowDose_rep4  liver_BPALowDose_rep5  liver_BPALowDose_rep6  \\\n",
       "Gene_ID                                                                        \n",
       "11287                   15.314                 15.501                15.4910   \n",
       "11298                    6.097                  5.965                 6.1230   \n",
       "11302                    7.502                  7.678                 7.2040   \n",
       "11303                   11.618                 11.402                11.3810   \n",
       "11305                    8.802                  8.290                 8.6915   \n",
       "\n",
       "         liver_BPAHighDose_rep1  liver_BPAHighDose_rep2  \\\n",
       "Gene_ID                                                   \n",
       "11287                    15.081                  15.997   \n",
       "11298                     6.268                   5.913   \n",
       "11302                     7.739                   7.516   \n",
       "11303                    11.497                  12.071   \n",
       "11305                     8.781                   8.905   \n",
       "\n",
       "         liver_BPAHighDose_rep3  liver_BPAHighDose_rep4  \\\n",
       "Gene_ID                                                   \n",
       "11287                    15.484                  15.310   \n",
       "11298                     6.061                   6.507   \n",
       "11302                     7.733                   8.020   \n",
       "11303                    11.332                  11.897   \n",
       "11305                     8.583                   8.582   \n",
       "\n",
       "         liver_BPAHighDose_rep5  liver_BPAHighDose_rep6  \n",
       "Gene_ID                                                  \n",
       "11287                   15.3370                  14.982  \n",
       "11298                    5.9670                   6.106  \n",
       "11302                    8.2370                   7.927  \n",
       "11303                   11.6240                  10.868  \n",
       "11305                    8.6875                   8.598  "
      ]
     },
     "execution_count": 31,
     "metadata": {},
     "output_type": "execute_result"
    }
   ],
   "source": [
    "data.head()"
   ]
  },
  {
   "cell_type": "markdown",
   "metadata": {},
   "source": [
    "Теперь посчитаем для каждого гена среднее в контроле, low dose и high dose."
   ]
  },
  {
   "cell_type": "code",
   "execution_count": 32,
   "metadata": {},
   "outputs": [],
   "source": [
    "control_columns = ['liver_control_rep1', 'liver_control_rep2',\n",
    "       'liver_control_rep3', 'liver_control_rep4', 'liver_control_rep5',\n",
    "       'liver_control_rep6']\n",
    "low_BPA_columns = ['liver_BPALowDose_rep1', 'liver_BPALowDose_rep2',\n",
    "       'liver_BPALowDose_rep3', 'liver_BPALowDose_rep4',\n",
    "       'liver_BPALowDose_rep5', 'liver_BPALowDose_rep6']\n",
    "high_BPA_columns = ['liver_BPAHighDose_rep1', 'liver_BPAHighDose_rep2',\n",
    "       'liver_BPAHighDose_rep3', 'liver_BPAHighDose_rep4',\n",
    "       'liver_BPAHighDose_rep5', 'liver_BPAHighDose_rep6']"
   ]
  },
  {
   "cell_type": "code",
   "execution_count": 33,
   "metadata": {},
   "outputs": [],
   "source": [
    "def calc_mean(data, columns_to_mean, name):\n",
    "    mean = data[columns_to_mean].mean(axis=1)\n",
    "    return mean.to_frame(name)"
   ]
  },
  {
   "cell_type": "code",
   "execution_count": 34,
   "metadata": {},
   "outputs": [],
   "source": [
    "control_mean = calc_mean(data, control_columns, 'control')\n",
    "low_BPA_mean = calc_mean(data, low_BPA_columns, 'low_BPA')\n",
    "high_BPA_mean = calc_mean(data, high_BPA_columns, 'high_BPA')\n",
    "\n",
    "data_mean = control_mean.join([low_BPA_mean, high_BPA_mean])"
   ]
  },
  {
   "cell_type": "code",
   "execution_count": 35,
   "metadata": {},
   "outputs": [
    {
     "data": {
      "text/html": [
       "<div>\n",
       "<style scoped>\n",
       "    .dataframe tbody tr th:only-of-type {\n",
       "        vertical-align: middle;\n",
       "    }\n",
       "\n",
       "    .dataframe tbody tr th {\n",
       "        vertical-align: top;\n",
       "    }\n",
       "\n",
       "    .dataframe thead th {\n",
       "        text-align: right;\n",
       "    }\n",
       "</style>\n",
       "<table border=\"1\" class=\"dataframe\">\n",
       "  <thead>\n",
       "    <tr style=\"text-align: right;\">\n",
       "      <th></th>\n",
       "      <th>control</th>\n",
       "      <th>low_BPA</th>\n",
       "      <th>high_BPA</th>\n",
       "    </tr>\n",
       "    <tr>\n",
       "      <th>Gene_ID</th>\n",
       "      <th></th>\n",
       "      <th></th>\n",
       "      <th></th>\n",
       "    </tr>\n",
       "  </thead>\n",
       "  <tbody>\n",
       "    <tr>\n",
       "      <th>11287</th>\n",
       "      <td>15.355667</td>\n",
       "      <td>15.364167</td>\n",
       "      <td>15.365167</td>\n",
       "    </tr>\n",
       "    <tr>\n",
       "      <th>11298</th>\n",
       "      <td>6.124500</td>\n",
       "      <td>5.995500</td>\n",
       "      <td>6.137000</td>\n",
       "    </tr>\n",
       "    <tr>\n",
       "      <th>11302</th>\n",
       "      <td>7.779000</td>\n",
       "      <td>7.540667</td>\n",
       "      <td>7.862000</td>\n",
       "    </tr>\n",
       "    <tr>\n",
       "      <th>11303</th>\n",
       "      <td>11.235167</td>\n",
       "      <td>11.586667</td>\n",
       "      <td>11.548167</td>\n",
       "    </tr>\n",
       "    <tr>\n",
       "      <th>11305</th>\n",
       "      <td>8.555083</td>\n",
       "      <td>8.476667</td>\n",
       "      <td>8.689417</td>\n",
       "    </tr>\n",
       "  </tbody>\n",
       "</table>\n",
       "</div>"
      ],
      "text/plain": [
       "           control    low_BPA   high_BPA\n",
       "Gene_ID                                 \n",
       "11287    15.355667  15.364167  15.365167\n",
       "11298     6.124500   5.995500   6.137000\n",
       "11302     7.779000   7.540667   7.862000\n",
       "11303    11.235167  11.586667  11.548167\n",
       "11305     8.555083   8.476667   8.689417"
      ]
     },
     "execution_count": 35,
     "metadata": {},
     "output_type": "execute_result"
    }
   ],
   "source": [
    "data_mean.head()"
   ]
  },
  {
   "cell_type": "markdown",
   "metadata": {},
   "source": [
    "# 3. Дерево решений\n",
    "\n",
    "## Что получилось:\n",
    "* Есть проблема: мы не можем построить на всех фичах дерево высоты 2, получается лишь дерево высоты 1, так как дальшейшее разделение не приводит к уменьшению impurity(слишком много фичей, нужно уменьшать количество фичей, то есть переходить к random forest).\n",
    "* В случае классификатора control vs low dose важным геном оказался 67894, а для классификатора control vs high dose --- 71385."
   ]
  },
  {
   "cell_type": "code",
   "execution_count": null,
   "metadata": {},
   "outputs": [],
   "source": []
  },
  {
   "cell_type": "markdown",
   "metadata": {},
   "source": [
    "## 3.1 Готовим данные"
   ]
  },
  {
   "cell_type": "code",
   "execution_count": 36,
   "metadata": {},
   "outputs": [],
   "source": [
    "def make_Xy(data, control_columns, BPA_columns):\n",
    "    X_control = data[control_columns].transpose().to_numpy()\n",
    "    X_BPA = data[BPA_columns].transpose().to_numpy()\n",
    "    X = np.vstack((X_control, X_BPA))\n",
    "    \n",
    "    y = np.array(['control'] * len(X_control) + ['BPA'] * len(X_BPA))\n",
    "    perm = np.random.permutation(len(X))\n",
    "    return X[perm], y[perm]"
   ]
  },
  {
   "cell_type": "code",
   "execution_count": 37,
   "metadata": {},
   "outputs": [],
   "source": [
    "X_low, y_low = make_Xy(data, control_columns, low_BPA_columns)\n",
    "X_high, y_high = make_Xy(data, control_columns, high_BPA_columns)"
   ]
  },
  {
   "cell_type": "markdown",
   "metadata": {},
   "source": [
    "Мы знаем, что для деревьев нормирование данных не требуется, поэтому будем использовать прямо эти датасеты."
   ]
  },
  {
   "cell_type": "markdown",
   "metadata": {},
   "source": [
    "## 3.2 Важность в low dose"
   ]
  },
  {
   "cell_type": "code",
   "execution_count": 38,
   "metadata": {},
   "outputs": [
    {
     "data": {
      "text/plain": [
       "[Text(167.4, 163.07999999999998, 'X[6131] <= 9.459\\ngini = 0.5\\nsamples = 12\\nvalue = [6, 6]'),\n",
       " Text(83.7, 54.360000000000014, 'gini = 0.0\\nsamples = 6\\nvalue = [0, 6]'),\n",
       " Text(251.10000000000002, 54.360000000000014, 'gini = 0.0\\nsamples = 6\\nvalue = [6, 0]')]"
      ]
     },
     "execution_count": 38,
     "metadata": {},
     "output_type": "execute_result"
    },
    {
     "data": {
      "image/png": "[encoded data removed]",
      "text/plain": [
       "<Figure size 432x288 with 1 Axes>"
      ]
     },
     "metadata": {
      "needs_background": "light"
     },
     "output_type": "display_data"
    }
   ],
   "source": [
    "clf = DecisionTreeClassifier(max_depth=2, random_state=0, min_impurity_decrease=0)\n",
    "clf.fit(X_low, y_low)\n",
    "plot_tree(clf)"
   ]
  },
  {
   "cell_type": "code",
   "execution_count": 39,
   "metadata": {},
   "outputs": [
    {
     "data": {
      "text/html": [
       "<div>\n",
       "<style scoped>\n",
       "    .dataframe tbody tr th:only-of-type {\n",
       "        vertical-align: middle;\n",
       "    }\n",
       "\n",
       "    .dataframe tbody tr th {\n",
       "        vertical-align: top;\n",
       "    }\n",
       "\n",
       "    .dataframe thead th {\n",
       "        text-align: right;\n",
       "    }\n",
       "</style>\n",
       "<table border=\"1\" class=\"dataframe\">\n",
       "  <thead>\n",
       "    <tr style=\"text-align: right;\">\n",
       "      <th></th>\n",
       "      <th>liver_control_rep1</th>\n",
       "      <th>liver_control_rep2</th>\n",
       "      <th>liver_control_rep3</th>\n",
       "      <th>liver_control_rep4</th>\n",
       "      <th>liver_control_rep5</th>\n",
       "      <th>liver_control_rep6</th>\n",
       "      <th>liver_BPALowDose_rep1</th>\n",
       "      <th>liver_BPALowDose_rep2</th>\n",
       "      <th>liver_BPALowDose_rep3</th>\n",
       "      <th>liver_BPALowDose_rep4</th>\n",
       "      <th>liver_BPALowDose_rep5</th>\n",
       "      <th>liver_BPALowDose_rep6</th>\n",
       "      <th>liver_BPAHighDose_rep1</th>\n",
       "      <th>liver_BPAHighDose_rep2</th>\n",
       "      <th>liver_BPAHighDose_rep3</th>\n",
       "      <th>liver_BPAHighDose_rep4</th>\n",
       "      <th>liver_BPAHighDose_rep5</th>\n",
       "      <th>liver_BPAHighDose_rep6</th>\n",
       "    </tr>\n",
       "    <tr>\n",
       "      <th>Gene_ID</th>\n",
       "      <th></th>\n",
       "      <th></th>\n",
       "      <th></th>\n",
       "      <th></th>\n",
       "      <th></th>\n",
       "      <th></th>\n",
       "      <th></th>\n",
       "      <th></th>\n",
       "      <th></th>\n",
       "      <th></th>\n",
       "      <th></th>\n",
       "      <th></th>\n",
       "      <th></th>\n",
       "      <th></th>\n",
       "      <th></th>\n",
       "      <th></th>\n",
       "      <th></th>\n",
       "      <th></th>\n",
       "    </tr>\n",
       "  </thead>\n",
       "  <tbody>\n",
       "    <tr>\n",
       "      <th>67894</th>\n",
       "      <td>9.003</td>\n",
       "      <td>9.158</td>\n",
       "      <td>9.422</td>\n",
       "      <td>9.216</td>\n",
       "      <td>8.818</td>\n",
       "      <td>9.326</td>\n",
       "      <td>9.609</td>\n",
       "      <td>9.514</td>\n",
       "      <td>9.497</td>\n",
       "      <td>9.527</td>\n",
       "      <td>9.682</td>\n",
       "      <td>10.05</td>\n",
       "      <td>9.307</td>\n",
       "      <td>9.408</td>\n",
       "      <td>9.629</td>\n",
       "      <td>9.414</td>\n",
       "      <td>9.145</td>\n",
       "      <td>9.256</td>\n",
       "    </tr>\n",
       "  </tbody>\n",
       "</table>\n",
       "</div>"
      ],
      "text/plain": [
       "         liver_control_rep1  liver_control_rep2  liver_control_rep3  \\\n",
       "Gene_ID                                                               \n",
       "67894                 9.003               9.158               9.422   \n",
       "\n",
       "         liver_control_rep4  liver_control_rep5  liver_control_rep6  \\\n",
       "Gene_ID                                                               \n",
       "67894                 9.216               8.818               9.326   \n",
       "\n",
       "         liver_BPALowDose_rep1  liver_BPALowDose_rep2  liver_BPALowDose_rep3  \\\n",
       "Gene_ID                                                                        \n",
       "67894                    9.609                  9.514                  9.497   \n",
       "\n",
       "         liver_BPALowDose_rep4  liver_BPALowDose_rep5  liver_BPALowDose_rep6  \\\n",
       "Gene_ID                                                                        \n",
       "67894                    9.527                  9.682                  10.05   \n",
       "\n",
       "         liver_BPAHighDose_rep1  liver_BPAHighDose_rep2  \\\n",
       "Gene_ID                                                   \n",
       "67894                     9.307                   9.408   \n",
       "\n",
       "         liver_BPAHighDose_rep3  liver_BPAHighDose_rep4  \\\n",
       "Gene_ID                                                   \n",
       "67894                     9.629                   9.414   \n",
       "\n",
       "         liver_BPAHighDose_rep5  liver_BPAHighDose_rep6  \n",
       "Gene_ID                                                  \n",
       "67894                     9.145                   9.256  "
      ]
     },
     "execution_count": 39,
     "metadata": {},
     "output_type": "execute_result"
    }
   ],
   "source": [
    "data.iloc[[6131], :]"
   ]
  },
  {
   "cell_type": "markdown",
   "metadata": {},
   "source": [
    "Это ген 67894"
   ]
  },
  {
   "cell_type": "markdown",
   "metadata": {},
   "source": [
    "## 3.3 Важность в high dose"
   ]
  },
  {
   "cell_type": "code",
   "execution_count": 40,
   "metadata": {},
   "outputs": [
    {
     "data": {
      "text/plain": [
       "[Text(167.4, 163.07999999999998, 'X[7146] <= 7.172\\ngini = 0.5\\nsamples = 12\\nvalue = [6, 6]'),\n",
       " Text(83.7, 54.360000000000014, 'gini = 0.0\\nsamples = 6\\nvalue = [6, 0]'),\n",
       " Text(251.10000000000002, 54.360000000000014, 'gini = 0.0\\nsamples = 6\\nvalue = [0, 6]')]"
      ]
     },
     "execution_count": 40,
     "metadata": {},
     "output_type": "execute_result"
    },
    {
     "data": {
      "image/png": "[encoded data removed]",
      "text/plain": [
       "<Figure size 432x288 with 1 Axes>"
      ]
     },
     "metadata": {
      "needs_background": "light"
     },
     "output_type": "display_data"
    }
   ],
   "source": [
    "clf = DecisionTreeClassifier(max_depth=2, random_state=0, min_impurity_decrease=0)\n",
    "clf.fit(X_high, y_high)\n",
    "plot_tree(clf)"
   ]
  },
  {
   "cell_type": "code",
   "execution_count": 41,
   "metadata": {},
   "outputs": [
    {
     "data": {
      "text/html": [
       "<div>\n",
       "<style scoped>\n",
       "    .dataframe tbody tr th:only-of-type {\n",
       "        vertical-align: middle;\n",
       "    }\n",
       "\n",
       "    .dataframe tbody tr th {\n",
       "        vertical-align: top;\n",
       "    }\n",
       "\n",
       "    .dataframe thead th {\n",
       "        text-align: right;\n",
       "    }\n",
       "</style>\n",
       "<table border=\"1\" class=\"dataframe\">\n",
       "  <thead>\n",
       "    <tr style=\"text-align: right;\">\n",
       "      <th></th>\n",
       "      <th>liver_control_rep1</th>\n",
       "      <th>liver_control_rep2</th>\n",
       "      <th>liver_control_rep3</th>\n",
       "      <th>liver_control_rep4</th>\n",
       "      <th>liver_control_rep5</th>\n",
       "      <th>liver_control_rep6</th>\n",
       "      <th>liver_BPALowDose_rep1</th>\n",
       "      <th>liver_BPALowDose_rep2</th>\n",
       "      <th>liver_BPALowDose_rep3</th>\n",
       "      <th>liver_BPALowDose_rep4</th>\n",
       "      <th>liver_BPALowDose_rep5</th>\n",
       "      <th>liver_BPALowDose_rep6</th>\n",
       "      <th>liver_BPAHighDose_rep1</th>\n",
       "      <th>liver_BPAHighDose_rep2</th>\n",
       "      <th>liver_BPAHighDose_rep3</th>\n",
       "      <th>liver_BPAHighDose_rep4</th>\n",
       "      <th>liver_BPAHighDose_rep5</th>\n",
       "      <th>liver_BPAHighDose_rep6</th>\n",
       "    </tr>\n",
       "    <tr>\n",
       "      <th>Gene_ID</th>\n",
       "      <th></th>\n",
       "      <th></th>\n",
       "      <th></th>\n",
       "      <th></th>\n",
       "      <th></th>\n",
       "      <th></th>\n",
       "      <th></th>\n",
       "      <th></th>\n",
       "      <th></th>\n",
       "      <th></th>\n",
       "      <th></th>\n",
       "      <th></th>\n",
       "      <th></th>\n",
       "      <th></th>\n",
       "      <th></th>\n",
       "      <th></th>\n",
       "      <th></th>\n",
       "      <th></th>\n",
       "    </tr>\n",
       "  </thead>\n",
       "  <tbody>\n",
       "    <tr>\n",
       "      <th>71385</th>\n",
       "      <td>7.376</td>\n",
       "      <td>7.231</td>\n",
       "      <td>7.248</td>\n",
       "      <td>7.352</td>\n",
       "      <td>7.786</td>\n",
       "      <td>7.271</td>\n",
       "      <td>6.699</td>\n",
       "      <td>7.268</td>\n",
       "      <td>7.256</td>\n",
       "      <td>6.839</td>\n",
       "      <td>7.082</td>\n",
       "      <td>7.081</td>\n",
       "      <td>6.799</td>\n",
       "      <td>6.94</td>\n",
       "      <td>6.923</td>\n",
       "      <td>7.047</td>\n",
       "      <td>6.966</td>\n",
       "      <td>7.114</td>\n",
       "    </tr>\n",
       "  </tbody>\n",
       "</table>\n",
       "</div>"
      ],
      "text/plain": [
       "         liver_control_rep1  liver_control_rep2  liver_control_rep3  \\\n",
       "Gene_ID                                                               \n",
       "71385                 7.376               7.231               7.248   \n",
       "\n",
       "         liver_control_rep4  liver_control_rep5  liver_control_rep6  \\\n",
       "Gene_ID                                                               \n",
       "71385                 7.352               7.786               7.271   \n",
       "\n",
       "         liver_BPALowDose_rep1  liver_BPALowDose_rep2  liver_BPALowDose_rep3  \\\n",
       "Gene_ID                                                                        \n",
       "71385                    6.699                  7.268                  7.256   \n",
       "\n",
       "         liver_BPALowDose_rep4  liver_BPALowDose_rep5  liver_BPALowDose_rep6  \\\n",
       "Gene_ID                                                                        \n",
       "71385                    6.839                  7.082                  7.081   \n",
       "\n",
       "         liver_BPAHighDose_rep1  liver_BPAHighDose_rep2  \\\n",
       "Gene_ID                                                   \n",
       "71385                     6.799                    6.94   \n",
       "\n",
       "         liver_BPAHighDose_rep3  liver_BPAHighDose_rep4  \\\n",
       "Gene_ID                                                   \n",
       "71385                     6.923                   7.047   \n",
       "\n",
       "         liver_BPAHighDose_rep5  liver_BPAHighDose_rep6  \n",
       "Gene_ID                                                  \n",
       "71385                     6.966                   7.114  "
      ]
     },
     "execution_count": 41,
     "metadata": {},
     "output_type": "execute_result"
    }
   ],
   "source": [
    "data.iloc[[7146], :]"
   ]
  },
  {
   "cell_type": "markdown",
   "metadata": {},
   "source": [
    "Это ген 71385"
   ]
  },
  {
   "cell_type": "code",
   "execution_count": null,
   "metadata": {},
   "outputs": [],
   "source": []
  }
 ],
 "metadata": {
  "kernelspec": {
   "display_name": "Python 3",
   "language": "python",
   "name": "python3"
  },
  "language_info": {
   "codemirror_mode": {
    "name": "ipython",
    "version": 3
   },
   "file_extension": ".py",
   "mimetype": "text/x-python",
   "name": "python",
   "nbconvert_exporter": "python",
   "pygments_lexer": "ipython3",
   "version": "3.7.3"
  }
 },
 "nbformat": 4,
 "nbformat_minor": 2
}
